{
 "cells": [
  {
   "cell_type": "code",
   "execution_count": 16,
   "metadata": {},
   "outputs": [],
   "source": [
    "import os\n",
    "import numpy as np\n",
    "from tqdm import tqdm\n",
    "import matplotlib.pyplot as plt\n",
    "from datasets import load_dataset\n",
    "from sentence_transformers import SentenceTransformer"
   ]
  },
  {
   "cell_type": "code",
   "execution_count": 2,
   "metadata": {},
   "outputs": [
    {
     "name": "stdout",
     "output_type": "stream",
     "text": [
      "(10000,)\n",
      "(1304,)\n"
     ]
    }
   ],
   "source": [
    "# データセットのロード\n",
    "general_dataset_name = 'stanfordnlp/snli'\n",
    "chemical_dataset_name = 'allenai/scitail'\n",
    "\n",
    "general_dataset = load_dataset(general_dataset_name)\n",
    "general_dataset = general_dataset['validation']\n",
    "print(np.shape(general_dataset['premise']))\n",
    "\n",
    "chemical_dataset = load_dataset(chemical_dataset_name, 'tsv_format')\n",
    "chemical_dataset = chemical_dataset['validation']\n",
    "print(np.shape(chemical_dataset['premise']))"
   ]
  },
  {
   "cell_type": "code",
   "execution_count": 3,
   "metadata": {},
   "outputs": [],
   "source": [
    "# モデルの定義\n",
    "model_name = 'sentence-transformers/stsb-roberta-large'\n",
    "model = SentenceTransformer(model_name)"
   ]
  },
  {
   "cell_type": "code",
   "execution_count": 4,
   "metadata": {},
   "outputs": [],
   "source": [
    "#一般分野テキスト (snliデータセットのvalidationデータの内のpremiseデータ)\n",
    "#化学分野テキスト (scitailデータセットのvalidationデータの内のpremiseデータ)\n",
    "use_dataset = general_dataset['premise'][:1000] + chemical_dataset['premise'][:1000]"
   ]
  },
  {
   "cell_type": "code",
   "execution_count": 5,
   "metadata": {},
   "outputs": [
    {
     "name": "stderr",
     "output_type": "stream",
     "text": [
      "100%|██████████| 2000/2000 [00:22<00:00, 87.26it/s]\n"
     ]
    }
   ],
   "source": [
    "# 結果を保存するリストの初期化\n",
    "vector_list = []\n",
    "\n",
    "for text in tqdm(use_dataset):\n",
    "    embeddings = model.encode(text)\n",
    "    # ベクトルをリストに保存\n",
    "    vector_list.append(embeddings)"
   ]
  },
  {
   "cell_type": "code",
   "execution_count": 6,
   "metadata": {},
   "outputs": [
    {
     "name": "stdout",
     "output_type": "stream",
     "text": [
      "The file vector_list.npy already exists. Vector list was not saved.\n"
     ]
    }
   ],
   "source": [
    "# 保存するファイル名\n",
    "filename = \"vector_list.npy\"\n",
    "\n",
    "# ファイルが存在しない場合のみ保存\n",
    "if not os.path.exists(filename):\n",
    "    np.save(filename, vector_list)\n",
    "    print(f\"Vector list has been saved to {filename}.\")\n",
    "else:\n",
    "    print(f\"The file {filename} already exists. Vector list was not saved.\")"
   ]
  },
  {
   "cell_type": "markdown",
   "metadata": {},
   "source": [
    "#### umapによる特徴量可視化"
   ]
  },
  {
   "cell_type": "code",
   "execution_count": 10,
   "metadata": {},
   "outputs": [
    {
     "name": "stderr",
     "output_type": "stream",
     "text": [
      "/usr/local/lib/python3.10/dist-packages/umap/umap_.py:1945: UserWarning: n_jobs value 1 overridden to 1 by setting random_state. Use no seed for parallelism.\n",
      "  warn(f\"n_jobs value {self.n_jobs} overridden to 1 by setting random_state. Use no seed for parallelism.\")\n"
     ]
    }
   ],
   "source": [
    "import umap.umap_ as umap\n",
    " \n",
    "random_seed = 2\n",
    "metric = \"euclidean\" # choices=[\"euclidean\", \"manhattan\", \"cosine\"]\n",
    "\n",
    "## mapper関数の作成 =================================================================\n",
    "mapper = umap.UMAP(random_state=random_seed, \n",
    "                     metric=metric,\n",
    "                     )\n",
    "_ = mapper.fit_transform(vector_list)"
   ]
  },
  {
   "cell_type": "code",
   "execution_count": 18,
   "metadata": {},
   "outputs": [],
   "source": [
    "visualization_data = [\"The solution was acidic, causing the reaction to proceed slowly.\".lower(),\n",
    "                      \"The solution was basic, accelerating the reaction rate.\".lower(), \n",
    "                      \"Sarah became a professional pianist after years of hard work.\".lower(),\n",
    "                      \"Sarah became a professional guitarist after years of hard work.\".lower(),\n",
    "                      ]\n",
    "\n",
    "label = [1,2,3,4]"
   ]
  },
  {
   "cell_type": "code",
   "execution_count": 12,
   "metadata": {},
   "outputs": [
    {
     "name": "stderr",
     "output_type": "stream",
     "text": [
      "100%|██████████| 4/4 [00:00<00:00, 36.15it/s]\n"
     ]
    }
   ],
   "source": [
    "visualization_list = []\n",
    "\n",
    "for text in tqdm(visualization_data):\n",
    "    embeddings = model.encode(text)\n",
    "    # ベクトルをリストに保存\n",
    "    visualization_list.append(embeddings)"
   ]
  },
  {
   "cell_type": "code",
   "execution_count": 14,
   "metadata": {},
   "outputs": [],
   "source": [
    "map_vec = mapper.transform(visualization_list)"
   ]
  },
  {
   "cell_type": "code",
   "execution_count": 23,
   "metadata": {},
   "outputs": [
    {
     "data": {
      "image/png": "[encoded data removed]",
      "text/plain": [
       "<Figure size 640x480 with 1 Axes>"
      ]
     },
     "metadata": {},
     "output_type": "display_data"
    }
   ],
   "source": [
    "scatter = plt.scatter(map_vec[:, 0], map_vec[:, 1],label=label)\n",
    "\n",
    "# 各データの近くにラベルを表示\n",
    "for i, txt in enumerate(label):\n",
    "    plt.text(map_vec[i, 0], map_vec[i, 1], txt, fontsize=12)"
   ]
  },
  {
   "cell_type": "code",
   "execution_count": null,
   "metadata": {},
   "outputs": [],
   "source": []
  }
 ],
 "metadata": {
  "kernelspec": {
   "display_name": "Python 3",
   "language": "python",
   "name": "python3"
  },
  "language_info": {
   "codemirror_mode": {
    "name": "ipython",
    "version": 3
   },
   "file_extension": ".py",
   "mimetype": "text/x-python",
   "name": "python",
   "nbconvert_exporter": "python",
   "pygments_lexer": "ipython3",
   "version": "3.10.6"
  }
 },
 "nbformat": 4,
 "nbformat_minor": 2
}
